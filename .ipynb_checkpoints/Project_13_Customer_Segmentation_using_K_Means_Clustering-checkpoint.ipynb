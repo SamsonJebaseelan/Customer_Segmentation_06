{
 "cells": [
  {
   "cell_type": "markdown",
   "metadata": {
    "id": "MTIXrkCYKtlu"
   },
   "source": [
    "Importing the Dependencies"
   ]
  },
  {
   "cell_type": "code",
   "execution_count": 13,
   "metadata": {
    "id": "mL7HLYQFXW-c"
   },
   "outputs": [],
   "source": [
    "import numpy as np\n",
    "import pandas as pd\n",
    "import matplotlib.pyplot as plt\n",
    "import seaborn as sns\n",
    "from sklearn.cluster import KMeans"
   ]
  },
  {
   "cell_type": "markdown",
   "metadata": {
    "id": "KigjC6mBLJN3"
   },
   "source": [
    "Data Collection & Analysis"
   ]
  },
  {
   "cell_type": "code",
   "execution_count": 14,
   "metadata": {
    "id": "gTSFo2LiLIav"
   },
   "outputs": [],
   "source": [
    "# loading the data from csv file to a Pandas DataFrame\n",
    "customer_data = pd.read_csv('D:\\Programming\\python\\customers.csv')"
   ]
  },
  {
   "cell_type": "code",
   "execution_count": 15,
   "metadata": {
    "colab": {
     "base_uri": "https://localhost:8080/",
     "height": 196
    },
    "id": "mbtjztN3Lhcu",
    "outputId": "4b5e3ec9-1784-4918-bece-7616a2305e4b"
   },
   "outputs": [
    {
     "data": {
      "text/html": [
       "<div>\n",
       "<style scoped>\n",
       "    .dataframe tbody tr th:only-of-type {\n",
       "        vertical-align: middle;\n",
       "    }\n",
       "\n",
       "    .dataframe tbody tr th {\n",
       "        vertical-align: top;\n",
       "    }\n",
       "\n",
       "    .dataframe thead th {\n",
       "        text-align: right;\n",
       "    }\n",
       "</style>\n",
       "<table border=\"1\" class=\"dataframe\">\n",
       "  <thead>\n",
       "    <tr style=\"text-align: right;\">\n",
       "      <th></th>\n",
       "      <th>Age</th>\n",
       "      <th>Purchase Frequency</th>\n",
       "      <th>Average Amount Spent</th>\n",
       "      <th>Spending Score</th>\n",
       "    </tr>\n",
       "  </thead>\n",
       "  <tbody>\n",
       "    <tr>\n",
       "      <th>0</th>\n",
       "      <td>29</td>\n",
       "      <td>10</td>\n",
       "      <td>100000.0</td>\n",
       "      <td>33333.33</td>\n",
       "    </tr>\n",
       "    <tr>\n",
       "      <th>1</th>\n",
       "      <td>35</td>\n",
       "      <td>5</td>\n",
       "      <td>150000.0</td>\n",
       "      <td>42857.14</td>\n",
       "    </tr>\n",
       "    <tr>\n",
       "      <th>2</th>\n",
       "      <td>60</td>\n",
       "      <td>12</td>\n",
       "      <td>200000.0</td>\n",
       "      <td>40000.00</td>\n",
       "    </tr>\n",
       "    <tr>\n",
       "      <th>3</th>\n",
       "      <td>45</td>\n",
       "      <td>7</td>\n",
       "      <td>300000.0</td>\n",
       "      <td>70000.00</td>\n",
       "    </tr>\n",
       "    <tr>\n",
       "      <th>4</th>\n",
       "      <td>33</td>\n",
       "      <td>9</td>\n",
       "      <td>250000.0</td>\n",
       "      <td>75000.00</td>\n",
       "    </tr>\n",
       "  </tbody>\n",
       "</table>\n",
       "</div>"
      ],
      "text/plain": [
       "   Age  Purchase Frequency  Average Amount Spent  Spending Score\n",
       "0   29                  10              100000.0        33333.33\n",
       "1   35                   5              150000.0        42857.14\n",
       "2   60                  12              200000.0        40000.00\n",
       "3   45                   7              300000.0        70000.00\n",
       "4   33                   9              250000.0        75000.00"
      ]
     },
     "execution_count": 15,
     "metadata": {},
     "output_type": "execute_result"
    }
   ],
   "source": [
    "# first 5 rows in the dataframe\n",
    "customer_data.head()"
   ]
  },
  {
   "cell_type": "code",
   "execution_count": 16,
   "metadata": {
    "colab": {
     "base_uri": "https://localhost:8080/"
    },
    "id": "-NWZTDNRLofr",
    "outputId": "5cdb9e6b-20f2-4676-da6c-014dc7b3a38e"
   },
   "outputs": [
    {
     "data": {
      "text/plain": [
       "(402, 4)"
      ]
     },
     "execution_count": 16,
     "metadata": {},
     "output_type": "execute_result"
    }
   ],
   "source": [
    "# finding the number of rows and columns\n",
    "customer_data.shape"
   ]
  },
  {
   "cell_type": "code",
   "execution_count": 17,
   "metadata": {
    "colab": {
     "base_uri": "https://localhost:8080/"
    },
    "id": "K5qKxwHiL56b",
    "outputId": "ce5ec885-f107-493a-ecb7-42170d1fd7d5"
   },
   "outputs": [
    {
     "name": "stdout",
     "output_type": "stream",
     "text": [
      "<class 'pandas.core.frame.DataFrame'>\n",
      "RangeIndex: 402 entries, 0 to 401\n",
      "Data columns (total 4 columns):\n",
      " #   Column                Non-Null Count  Dtype  \n",
      "---  ------                --------------  -----  \n",
      " 0   Age                   402 non-null    int64  \n",
      " 1   Purchase Frequency    402 non-null    int64  \n",
      " 2   Average Amount Spent  402 non-null    float64\n",
      " 3   Spending Score        402 non-null    float64\n",
      "dtypes: float64(2), int64(2)\n",
      "memory usage: 12.7 KB\n"
     ]
    }
   ],
   "source": [
    "# getting some informations about the dataset\n",
    "customer_data.info()"
   ]
  },
  {
   "cell_type": "code",
   "execution_count": 18,
   "metadata": {
    "colab": {
     "base_uri": "https://localhost:8080/"
    },
    "id": "vBtCZvyFMI1O",
    "outputId": "d8a19c04-d0d1-4fb6-ea71-53e2137e0307"
   },
   "outputs": [
    {
     "data": {
      "text/plain": [
       "Age                     0\n",
       "Purchase Frequency      0\n",
       "Average Amount Spent    0\n",
       "Spending Score          0\n",
       "dtype: int64"
      ]
     },
     "execution_count": 18,
     "metadata": {},
     "output_type": "execute_result"
    }
   ],
   "source": [
    "# checking for missing values\n",
    "customer_data.isnull().sum()"
   ]
  },
  {
   "cell_type": "markdown",
   "metadata": {
    "id": "mDtt8uP0MoiH"
   },
   "source": [
    "Choosing the Average Amount Spent Column & Spending Score column"
   ]
  },
  {
   "cell_type": "code",
   "execution_count": 19,
   "metadata": {
    "id": "-GZMLhdvMXv5"
   },
   "outputs": [],
   "source": [
    "X = customer_data.iloc[:,[2,3]].values"
   ]
  },
  {
   "cell_type": "code",
   "execution_count": 20,
   "metadata": {
    "colab": {
     "base_uri": "https://localhost:8080/"
    },
    "id": "5vpIqX5qNHEB",
    "outputId": "ff589c21-c7ca-4c37-da4a-59ccddfbb828"
   },
   "outputs": [
    {
     "name": "stdout",
     "output_type": "stream",
     "text": [
      "[[1.0000000e+05 3.3333330e+04]\n",
      " [1.5000000e+05 4.2857140e+04]\n",
      " [2.0000000e+05 4.0000000e+04]\n",
      " [3.0000000e+05 7.0000000e+04]\n",
      " [2.5000000e+05 7.5000000e+04]\n",
      " [5.0000000e+05 5.0000000e+04]\n",
      " [3.5000000e+05 1.0731707e+05]\n",
      " [1.0000000e+05 2.8571430e+04]\n",
      " [4.5000000e+05 1.2000000e+05]\n",
      " [4.0000000e+05 1.0800000e+05]\n",
      " [2.5000000e+05 5.6250000e+04]\n",
      " [3.5000000e+05 7.0000000e+04]\n",
      " [1.0000000e+05 2.0000000e+04]\n",
      " [5.0000000e+05 1.6129032e+05]\n",
      " [3.0000000e+05 3.0000000e+04]\n",
      " [1.5000000e+05 5.0000000e+04]\n",
      " [4.5000000e+05 9.4868420e+04]\n",
      " [1.0000000e+05 2.0000000e+04]\n",
      " [3.5000000e+05 3.5000000e+04]\n",
      " [5.0000000e+05 1.1764706e+05]\n",
      " [3.0000000e+05 7.0000000e+04]\n",
      " [4.0000000e+05 1.2413793e+05]\n",
      " [2.0000000e+05 4.7619050e+04]\n",
      " [2.5000000e+05 7.1428570e+04]\n",
      " [3.5000000e+05 7.0000000e+04]\n",
      " [1.0000000e+05 2.5000000e+04]\n",
      " [4.0000000e+05 1.0666667e+05]\n",
      " [5.0000000e+05 1.2500000e+05]\n",
      " [2.0000000e+05 6.0606060e+04]\n",
      " [3.0000000e+05 6.0000000e+04]\n",
      " [1.5000000e+05 3.7500000e+04]\n",
      " [3.5000000e+05 9.3333330e+04]\n",
      " [4.0000000e+05 1.1764706e+05]\n",
      " [2.5000000e+05 5.3571430e+04]\n",
      " [3.0000000e+05 8.0000000e+04]\n",
      " [1.5000000e+05 3.7500000e+04]\n",
      " [2.0000000e+05 5.3333330e+04]\n",
      " [4.5000000e+05 1.0606061e+05]\n",
      " [3.5000000e+05 9.2105260e+04]\n",
      " [5.0000000e+05 5.0000000e+04]\n",
      " [2.0000000e+05 4.4444440e+04]\n",
      " [2.5000000e+05 7.1428570e+04]\n",
      " [4.0000000e+05 8.0000000e+04]\n",
      " [3.0000000e+05 6.0000000e+04]\n",
      " [1.0000000e+05 1.0000000e+04]\n",
      " [5.0000000e+05 1.6129032e+05]\n",
      " [3.5000000e+05 7.0000000e+04]\n",
      " [4.0000000e+05 5.3333330e+04]\n",
      " [2.5000000e+05 6.2500000e+04]\n",
      " [3.0000000e+05 9.1578950e+04]\n",
      " [2.0000000e+05 5.0000000e+04]\n",
      " [1.5000000e+05 4.0000000e+04]\n",
      " [3.5000000e+05 1.0555556e+05]\n",
      " [2.5000000e+05 6.2500000e+04]\n",
      " [1.0000000e+05 3.5714290e+04]\n",
      " [5.0000000e+05 1.1111111e+05]\n",
      " [4.0000000e+05 9.7619050e+04]\n",
      " [3.5000000e+05 1.0000000e+05]\n",
      " [2.0000000e+05 5.7142860e+04]\n",
      " [1.5000000e+05 3.7500000e+04]\n",
      " [3.5000000e+05 3.5000000e+04]\n",
      " [5.0000000e+05 1.1363636e+05]\n",
      " [2.5000000e+05 7.5757570e+04]\n",
      " [3.0000000e+05 8.0000000e+04]\n",
      " [4.0000000e+05 8.0000000e+04]\n",
      " [5.0000000e+05 1.0714286e+05]\n",
      " [2.0000000e+05 2.8571430e+04]\n",
      " [3.5000000e+05 8.7500000e+04]\n",
      " [3.0000000e+05 7.6000000e+04]\n",
      " [4.5000000e+05 8.6206900e+04]\n",
      " [2.5000000e+05 5.0000000e+04]\n",
      " [1.5000000e+05 5.0000000e+04]\n",
      " [3.5000000e+05 8.3333330e+04]\n",
      " [4.0000000e+05 8.3333330e+04]\n",
      " [1.0000000e+05 2.5000000e+04]\n",
      " [2.0000000e+05 5.0000000e+04]\n",
      " [3.0000000e+05 8.0769230e+04]\n",
      " [4.0000000e+05 1.1428571e+05]\n",
      " [2.5000000e+05 7.1428570e+04]\n",
      " [5.0000000e+05 1.1111111e+05]\n",
      " [1.5000000e+05 3.7500000e+04]\n",
      " [2.5000000e+05 6.2500000e+04]\n",
      " [3.5000000e+05 9.1666670e+04]\n",
      " [5.0000000e+05 5.0000000e+04]\n",
      " [1.0000000e+05 1.6666670e+04]\n",
      " [3.0000000e+05 7.7142860e+04]\n",
      " [4.5000000e+05 1.0681818e+05]\n",
      " [4.0000000e+05 1.0256410e+05]\n",
      " [2.5000000e+05 7.1428570e+04]\n",
      " [3.5000000e+05 9.3617020e+04]\n",
      " [3.0000000e+05 8.6400000e+04]\n",
      " [5.0000000e+05 1.1428571e+05]\n",
      " [2.5000000e+05 7.5000000e+04]\n",
      " [1.5000000e+05 4.2857140e+04]\n",
      " [4.5000000e+05 1.1212121e+05]\n",
      " [2.0000000e+05 5.0000000e+04]\n",
      " [3.0000000e+05 8.5714290e+04]\n",
      " [3.5000000e+05 7.0000000e+04]\n",
      " [1.0000000e+05 1.1111110e+04]\n",
      " [5.0000000e+05 5.0000000e+04]\n",
      " [4.0000000e+05 1.1111111e+05]\n",
      " [2.5000000e+05 7.1428570e+04]\n",
      " [3.5000000e+05 1.0731707e+05]\n",
      " [3.0000000e+04 1.2000000e+05]\n",
      " [6.6666000e+04 3.9999600e+05]\n",
      " [1.0346000e+04 8.2768000e+04]\n",
      " [3.4566000e+04 3.1109400e+05]\n",
      " [4.6356000e+04 2.3178000e+05]\n",
      " [1.5957000e+04 1.2765600e+05]\n",
      " [7.7777000e+04 5.4443900e+05]\n",
      " [6.0000000e+03 1.2000000e+04]\n",
      " [4.0000000e+04 1.6000000e+05]\n",
      " [5.5676500e+05 2.2270600e+06]\n",
      " [6.0000000e+03 1.8000000e+04]\n",
      " [5.0000000e+03 2.5000000e+04]\n",
      " [1.5000000e+04 9.0000000e+04]\n",
      " [2.4600000e+04 1.4760000e+05]\n",
      " [2.0000000e+04 4.0000000e+04]\n",
      " [5.5555000e+04 2.7777500e+05]\n",
      " [5.5555000e+04 2.7777500e+05]\n",
      " [4.0000000e+03 2.0000000e+04]\n",
      " [5.0000000e+03 2.0000000e+04]\n",
      " [6.0000000e+03 3.0000000e+04]\n",
      " [3.0000000e+04 1.8000000e+05]\n",
      " [4.5000000e+04 3.0000000e+02]\n",
      " [4.0000000e+04 5.5384600e+02]\n",
      " [2.5000000e+04 1.8518500e+02]\n",
      " [6.0000000e+04 6.8571400e+02]\n",
      " [7.0000000e+04 9.7222200e+02]\n",
      " [3.0000000e+04 2.4000000e+02]\n",
      " [4.0000000e+04 5.1333300e+02]\n",
      " [1.5000000e+04 1.5000000e+02]\n",
      " [2.0000000e+04 2.0000000e+02]\n",
      " [2.2000000e+04 2.0666700e+02]\n",
      " [2.5000000e+04 1.4166700e+02]\n",
      " [3.5000000e+04 2.3333300e+02]\n",
      " [5.0000000e+04 3.6666700e+02]\n",
      " [1.5000000e+04 1.5000000e+02]\n",
      " [4.0000000e+04 1.6000000e+04]\n",
      " [2.0000000e+04 8.0000000e+03]\n",
      " [5.0000000e+04 1.0000000e+04]\n",
      " [2.5000000e+04 3.1250000e+03]\n",
      " [4.5000000e+04 1.0000000e+04]\n",
      " [3.0000000e+04 2.8571400e+03]\n",
      " [6.0000000e+04 1.0800000e+04]\n",
      " [3.5000000e+04 9.5454500e+03]\n",
      " [7.0000000e+04 1.2727270e+04]\n",
      " [1.5000000e+04 1.8181800e+03]\n",
      " [5.5000000e+04 1.3275000e+04]\n",
      " [3.0000000e+04 1.1538460e+04]\n",
      " [1.0000000e+04 2.9411800e+03]\n",
      " [8.0000000e+04 8.0000000e+03]\n",
      " [2.5000000e+04 2.8181800e+03]\n",
      " [6.0000000e+04 1.0000000e+04]\n",
      " [2.0000000e+04 9.5238100e+03]\n",
      " [3.5000000e+04 8.3333300e+03]\n",
      " [6.5000000e+04 1.9545450e+04]\n",
      " [4.5000000e+04 1.3827590e+04]\n",
      " [2.0000000e+04 5.7142900e+03]\n",
      " [3.0000000e+04 2.8571400e+03]\n",
      " [5.5000000e+04 1.0000000e+04]\n",
      " [5.0000000e+04 1.1111110e+04]\n",
      " [7.0000000e+04 1.4893620e+04]\n",
      " [4.0000000e+04 1.0909090e+04]\n",
      " [4.0000000e+04 1.1428570e+04]\n",
      " [6.0000000e+04 2.1428570e+04]\n",
      " [3.5000000e+04 1.5454550e+04]\n",
      " [5.0000000e+04 1.2121210e+04]\n",
      " [2.0000000e+04 4.0000000e+03]\n",
      " [4.5000000e+04 1.2903230e+04]\n",
      " [2.5000000e+04 1.2500000e+04]\n",
      " [1.5000000e+04 2.1428600e+03]\n",
      " [3.5000000e+04 7.0000000e+03]\n",
      " [4.0000000e+04 6.6666700e+03]\n",
      " [5.0000000e+04 1.0417000e+04]\n",
      " [2.5000000e+04 6.1097600e+03]\n",
      " [1.5000000e+04 1.5000000e+04]\n",
      " [7.0000000e+04 1.4000000e+04]\n",
      " [3.0000000e+04 8.0000000e+03]\n",
      " [6.0000000e+04 1.4000000e+04]\n",
      " [4.5000000e+04 1.1666670e+04]\n",
      " [5.0000000e+04 1.0869570e+04]\n",
      " [2.0000000e+04 4.0000000e+03]\n",
      " [7.0000000e+04 1.2126320e+04]\n",
      " [3.5000000e+04 7.7777800e+03]\n",
      " [1.0000000e+04 5.0000000e+03]\n",
      " [5.5000000e+04 2.2083330e+04]\n",
      " [2.5000000e+04 5.3333300e+03]\n",
      " [1.5000000e+04 1.5000000e+04]\n",
      " [4.0000000e+04 1.6000000e+04]\n",
      " [2.5000000e+04 4.2857100e+03]\n",
      " [2.0000000e+04 1.0000000e+04]\n",
      " [6.5000000e+04 1.3036840e+04]\n",
      " [3.0000000e+04 8.1967200e+03]\n",
      " [4.5000000e+04 1.2857140e+04]\n",
      " [1.5000000e+04 7.5000000e+03]\n",
      " [5.0000000e+04 1.0588240e+04]\n",
      " [3.0000000e+04 6.6666700e+03]\n",
      " [7.0000000e+04 1.2727270e+04]\n",
      " [3.5000000e+04 8.9230800e+03]\n",
      " [6.0000000e+04 1.8000000e+04]\n",
      " [2.0000000e+04 6.6666700e+03]\n",
      " [4.5000000e+04 1.0714290e+04]\n",
      " [2.5000000e+04 6.2500000e+03]\n",
      " [5.0000000e+04 1.1236420e+04]\n",
      " [5.5000000e+04 1.7741940e+04]\n",
      " [3.0000000e+04 5.4545500e+03]\n",
      " [1.0000000e+04 3.0000000e+03]\n",
      " [6.0000000e+04 1.6129030e+04]\n",
      " [3.5000000e+04 7.8730200e+03]\n",
      " [4.5000000e+04 1.0384620e+04]\n",
      " [2.5000000e+04 1.2500000e+04]\n",
      " [3.5000000e+04 8.7500000e+03]\n",
      " [1.5000000e+04 3.7500000e+03]\n",
      " [7.0000000e+04 1.7500000e+04]\n",
      " [4.0000000e+04 1.0909090e+04]\n",
      " [5.0000000e+04 1.6129030e+04]\n",
      " [2.5000000e+04 6.5789500e+03]\n",
      " [6.0000000e+04 1.6666670e+04]\n",
      " [1.5000000e+04 7.5000000e+03]\n",
      " [4.0000000e+04 1.0941180e+04]\n",
      " [3.0000000e+04 1.5000000e+04]\n",
      " [2.0000000e+04 6.6666700e+03]\n",
      " [5.0000000e+04 1.1111110e+04]\n",
      " [6.0000000e+04 1.7142860e+04]\n",
      " [7.0000000e+04 1.2727270e+04]\n",
      " [3.5000000e+04 5.8333300e+03]\n",
      " [4.5000000e+04 1.1022730e+04]\n",
      " [1.0000000e+04 3.3333300e+03]\n",
      " [5.0000000e+04 1.3333330e+04]\n",
      " [4.0000000e+04 1.2121210e+04]\n",
      " [2.5000000e+04 5.0000000e+03]\n",
      " [6.0000000e+04 1.1489360e+04]\n",
      " [3.5000000e+04 3.5000000e+03]\n",
      " [4.5000000e+04 1.0714290e+04]\n",
      " [5.0000000e+04 1.9230770e+04]\n",
      " [3.0000000e+04 7.5000000e+03]\n",
      " [6.0000000e+04 1.9454550e+04]\n",
      " [1.5000000e+05 5.0000000e+03]\n",
      " [2.5000000e+05 1.0285714e+05]\n",
      " [4.0000000e+05 6.0000000e+04]\n",
      " [1.0000000e+05 1.6000000e+04]\n",
      " [3.5000000e+05 7.0000000e+04]\n",
      " [5.0000000e+05 8.0000000e+04]\n",
      " [2.0000000e+05 4.6666670e+04]\n",
      " [3.0000000e+05 7.8947370e+04]\n",
      " [1.5000000e+05 1.0714290e+04]\n",
      " [4.5000000e+05 1.2363636e+05]\n",
      " [2.5000000e+05 1.7857140e+04]\n",
      " [3.5000000e+05 1.0769231e+05]\n",
      " [4.0000000e+05 6.0000000e+04]\n",
      " [3.0000000e+05 7.2727270e+04]\n",
      " [2.0000000e+05 2.8000000e+04]\n",
      " [5.0000000e+05 1.2195122e+05]\n",
      " [1.2000000e+05 1.7142860e+04]\n",
      " [3.5000000e+05 8.7674420e+04]\n",
      " [4.5000000e+05 1.2636364e+05]\n",
      " [2.5000000e+05 2.5000000e+04]\n",
      " [2.0000000e+05 5.7142860e+04]\n",
      " [4.0000000e+05 1.4814815e+05]\n",
      " [1.5000000e+05 1.0714290e+04]\n",
      " [5.0000000e+05 9.0909090e+04]\n",
      " [3.0000000e+05 6.1636360e+04]\n",
      " [4.0000000e+05 1.1363636e+05]\n",
      " [3.5000000e+05 8.4615380e+04]\n",
      " [2.5000000e+05 7.5000000e+04]\n",
      " [1.0000000e+05 1.4285710e+04]\n",
      " [3.5000000e+05 7.0000000e+04]\n",
      " [2.5000000e+05 2.5000000e+04]\n",
      " [1.5000000e+05 3.0000000e+04]\n",
      " [2.0000000e+05 5.7142860e+04]\n",
      " [4.5000000e+05 1.0714286e+05]\n",
      " [1.0000000e+05 1.6000000e+04]\n",
      " [5.0000000e+05 6.8085110e+04]\n",
      " [4.0000000e+05 1.2000000e+05]\n",
      " [3.0000000e+05 6.4285710e+04]\n",
      " [2.0000000e+05 4.0000000e+04]\n",
      " [3.5000000e+05 1.0263158e+05]\n",
      " [3.0000000e+05 1.0000000e+05]\n",
      " [2.5000000e+05 5.6250000e+04]\n",
      " [4.0000000e+05 6.8000000e+04]\n",
      " [5.0000000e+05 5.0000000e+04]\n",
      " [4.5000000e+05 1.0500000e+05]\n",
      " [2.0000000e+05 3.1428570e+04]\n",
      " [3.5000000e+05 1.3548387e+05]\n",
      " [3.0000000e+05 6.1463410e+04]\n",
      " [1.5000000e+05 3.0000000e+04]\n",
      " [5.0000000e+05 1.3636364e+05]\n",
      " [3.5000000e+05 8.7000000e+04]\n",
      " [4.0000000e+05 1.2121212e+05]\n",
      " [2.0000000e+05 6.6666670e+04]\n",
      " [3.0000000e+05 7.1428570e+04]\n",
      " [5.0000000e+05 1.0000000e+05]\n",
      " [1.0000000e+05 2.5000000e+04]\n",
      " [3.5000000e+05 7.8788890e+04]\n",
      " [2.5000000e+05 5.0000000e+04]\n",
      " [4.5000000e+05 1.1454545e+05]\n",
      " [3.0000000e+05 9.0000000e+04]\n",
      " [5.0000000e+05 8.5714290e+04]\n",
      " [2.0000000e+05 3.3333330e+04]\n",
      " [3.5000000e+05 3.5000000e+04]\n",
      " [4.0000000e+05 9.1428570e+04]\n",
      " [5.0000000e+05 1.0714286e+05]\n",
      " [2.5000000e+05 5.3571430e+04]\n",
      " [3.0000000e+05 9.0909090e+04]\n",
      " [1.0000000e+05 2.5000000e+04]\n",
      " [2.0000000e+05 4.0000000e+04]\n",
      " [4.0000000e+05 1.0909091e+05]\n",
      " [1.5000000e+05 3.7500000e+04]\n",
      " [3.5000000e+05 7.0000000e+04]\n",
      " [5.0000000e+05 1.2200000e+05]\n",
      " [2.5000000e+05 6.9444440e+04]\n",
      " [3.0000000e+05 3.0000000e+04]\n",
      " [3.5000000e+05 7.4202020e+04]\n",
      " [1.5000000e+05 4.5731710e+04]\n",
      " [4.0000000e+05 1.1666667e+05]\n",
      " [3.0000000e+05 8.0000000e+04]\n",
      " [3.5000000e+05 1.0500000e+05]\n",
      " [2.0000000e+05 5.7142860e+04]\n",
      " [5.0000000e+05 1.6666667e+05]\n",
      " [4.5000000e+05 4.5000000e+04]\n",
      " [3.5000000e+05 1.0530303e+05]\n",
      " [2.0000000e+05 3.1428570e+04]\n",
      " [3.0000000e+05 1.4062500e+04]\n",
      " [4.0000000e+05 1.1764700e+04]\n",
      " [3.5000000e+05 1.4000000e+04]\n",
      " [4.3000000e+05 2.4571400e+04]\n",
      " [4.5000000e+05 1.8000000e+04]\n",
      " [4.2000000e+05 1.6509100e+04]\n",
      " [5.0000000e+05 1.4516100e+04]\n",
      " [4.7000000e+05 1.6206900e+04]\n",
      " [4.2000000e+05 9.3333000e+03]\n",
      " [4.1000000e+05 1.4324300e+04]\n",
      " [3.6000000e+05 1.8000000e+04]\n",
      " [3.8000000e+05 1.2352900e+04]\n",
      " [3.4000000e+05 1.5454500e+04]\n",
      " [4.9000000e+05 1.5806500e+04]\n",
      " [4.3000000e+05 1.7100000e+04]\n",
      " [4.6000000e+05 1.7200000e+04]\n",
      " [4.8000000e+05 1.2000000e+04]\n",
      " [4.0000000e+05 1.5135100e+04]\n",
      " [4.7000000e+05 1.4342100e+04]\n",
      " [3.3000000e+05 1.2615400e+04]\n",
      " [4.1000000e+05 2.0500000e+04]\n",
      " [5.0000000e+05 1.8181800e+04]\n",
      " [3.6000000e+05 1.0125000e+04]\n",
      " [3.8000000e+05 1.5400000e+04]\n",
      " [4.5000000e+05 1.0285700e+04]\n",
      " [4.2000000e+05 1.3263200e+04]\n",
      " [4.3000000e+05 1.1944400e+04]\n",
      " [4.9000000e+05 1.1025000e+04]\n",
      " [4.0000000e+05 2.0690300e+04]\n",
      " [4.2000000e+05 1.4250000e+04]\n",
      " [4.6000000e+05 1.7411800e+04]\n",
      " [4.2000000e+05 1.1351400e+04]\n",
      " [3.8000000e+05 1.3818200e+04]\n",
      " [3.6000000e+05 1.0583300e+04]\n",
      " [4.3000000e+05 1.5050000e+04]\n",
      " [3.5000000e+05 9.7778000e+03]\n",
      " [4.7000000e+05 1.5897400e+04]\n",
      " [3.9000000e+05 1.1411800e+04]\n",
      " [4.6000000e+05 1.6727300e+04]\n",
      " [3.8000000e+05 1.7000000e+04]\n",
      " [4.2000000e+05 2.1000000e+04]\n",
      " [5.0000000e+05 1.8571400e+04]\n",
      " [4.3000000e+05 2.0818200e+04]\n",
      " [4.7000000e+05 1.9448300e+04]\n",
      " [4.9000000e+05 2.2161300e+04]\n",
      " [5.0000000e+05 1.7857100e+04]\n",
      " [4.8000000e+05 1.2600000e+04]\n",
      " [4.0000000e+05 2.1000000e+04]\n",
      " [4.6000000e+05 1.5333300e+04]\n",
      " [4.2000000e+05 1.6509100e+04]\n",
      " [4.5000000e+05 2.1000000e+04]\n",
      " [3.9000000e+05 1.4700000e+04]\n",
      " [4.3000000e+05 1.4827600e+04]\n",
      " [3.8000000e+05 1.7142900e+04]\n",
      " [5.0000000e+05 2.2727300e+04]\n",
      " [4.0000000e+05 2.0000000e+04]\n",
      " [4.5000000e+05 1.1250000e+04]\n",
      " [4.2000000e+05 1.3650000e+04]\n",
      " [4.4000000e+05 1.9411800e+04]\n",
      " [4.8000000e+05 1.9200000e+04]\n",
      " [5.0000000e+05 1.2500000e+04]\n",
      " [3.8000000e+05 1.2142900e+04]\n",
      " [4.3000000e+05 1.5161300e+04]\n",
      " [4.2000000e+05 2.2757600e+04]\n",
      " [4.5000000e+05 1.3846200e+04]\n",
      " [3.9000000e+05 1.7411800e+04]\n",
      " [4.7000000e+05 1.1750000e+04]\n",
      " [4.3000000e+05 2.3655200e+04]\n",
      " [3.5000000e+05 1.4285700e+04]\n",
      " [4.6000000e+05 1.4806500e+04]\n",
      " [4.0000000e+05 1.3333300e+04]\n",
      " [4.7000000e+05 2.3500000e+04]\n",
      " [4.2000000e+05 1.7100000e+04]\n",
      " [5.0000000e+05 1.5000000e+04]\n",
      " [3.9000000e+05 1.0500000e+04]\n",
      " [4.8000000e+05 2.3161300e+04]\n",
      " [2.5000000e+04 1.7500000e+05]\n",
      " [2.5000000e+04 1.7500000e+05]\n",
      " [4.0000000e+03 2.4000000e+04]]\n"
     ]
    }
   ],
   "source": [
    "print(X)"
   ]
  },
  {
   "cell_type": "markdown",
   "metadata": {
    "id": "LUHCVZWVNVb5"
   },
   "source": [
    "Choosing the number of clusters"
   ]
  },
  {
   "cell_type": "markdown",
   "metadata": {
    "id": "25tFwgnZNiRF"
   },
   "source": [
    "WCSS  ->  Within Clusters Sum of Squares"
   ]
  },
  {
   "cell_type": "code",
   "execution_count": 21,
   "metadata": {
    "id": "LywIm4NDNIG1"
   },
   "outputs": [],
   "source": [
    "# finding wcss value for different number of clusters\n",
    "\n",
    "wcss = []\n",
    "\n",
    "for i in range(1,11):\n",
    "  kmeans = KMeans(n_clusters=i, init='k-means++', random_state=42)\n",
    "  kmeans.fit(X)\n",
    "\n",
    "  wcss.append(kmeans.inertia_)"
   ]
  },
  {
   "cell_type": "code",
   "execution_count": 22,
   "metadata": {
    "colab": {
     "base_uri": "https://localhost:8080/",
     "height": 301
    },
    "id": "1rWLIgxJPXI_",
    "outputId": "fabdc714-dcc6-465d-d84d-fc8d65b8c5dc"
   },
   "outputs": [
    {
     "data": {
      "image/png": "[encoded data removed]",
      "text/plain": [
       "<Figure size 640x480 with 1 Axes>"
      ]
     },
     "metadata": {},
     "output_type": "display_data"
    }
   ],
   "source": [
    "# plot an elbow graph\n",
    "\n",
    "sns.set()\n",
    "plt.plot(range(1,11), wcss)\n",
    "plt.title('The Elbow Point Graph')\n",
    "plt.xlabel('Number of Clusters')\n",
    "plt.ylabel('WCSS')\n",
    "plt.show()"
   ]
  },
  {
   "cell_type": "markdown",
   "metadata": {
    "id": "ifedd9_gQC4x"
   },
   "source": [
    "Optimum Number of Clusters = 4"
   ]
  },
  {
   "cell_type": "markdown",
   "metadata": {
    "id": "J3DiuWPtQKnU"
   },
   "source": [
    "Training the k-Means Clustering Model"
   ]
  },
  {
   "cell_type": "code",
   "execution_count": 23,
   "metadata": {
    "colab": {
     "base_uri": "https://localhost:8080/"
    },
    "id": "-5S3HwLpPy3h",
    "outputId": "4d008806-2579-4c85-8b65-d53f10f13191"
   },
   "outputs": [
    {
     "name": "stdout",
     "output_type": "stream",
     "text": [
      "[0 4 4 1 4 3 1 0 3 1 4 1 0 3 1 4 3 0 1 3 1 1 4 4 1 0 1 3 4 1 4 1 1 4 1 4 4\n",
      " 3 1 3 4 4 1 1 0 3 1 1 4 1 4 4 1 4 0 3 1 1 4 4 1 3 4 1 1 3 4 1 1 3 4 4 1 1\n",
      " 0 4 1 1 4 3 4 4 1 3 0 1 3 1 4 1 1 3 4 4 3 4 1 1 0 3 1 4 1 0 4 0 0 0 0 4 0\n",
      " 0 2 0 0 0 0 0 0 0 0 0 0 0 0 0 0 0 0 0 0 0 0 0 0 0 0 0 0 0 0 0 0 0 0 0 0 0\n",
      " 0 0 0 0 0 0 0 0 0 0 0 0 0 0 0 0 0 0 0 0 0 0 0 0 0 0 0 0 0 0 0 0 0 0 0 0 0\n",
      " 0 0 0 0 0 0 0 0 0 0 0 0 0 0 0 0 0 0 0 0 0 0 0 0 0 0 0 0 0 0 0 0 0 0 0 0 0\n",
      " 0 0 0 0 0 0 0 0 0 0 0 0 0 0 0 0 4 4 1 0 1 3 4 1 4 3 4 1 1 1 4 3 0 1 3 4 4\n",
      " 1 4 3 1 1 1 4 0 1 4 4 4 3 0 3 1 1 4 1 1 4 1 3 3 4 1 1 4 3 1 1 4 1 3 0 1 4\n",
      " 3 1 3 4 1 1 3 4 1 0 4 1 4 1 3 4 1 1 4 1 1 1 4 3 3 1 4 1 1 1 3 3 3 3 3 3 3\n",
      " 1 1 1 3 3 3 3 1 3 1 3 3 1 1 3 3 3 3 1 3 3 3 1 1 3 1 3 1 3 1 3 3 3 3 3 3 3\n",
      " 1 3 3 3 1 3 1 3 1 3 3 3 3 3 1 3 3 3 1 3 3 1 3 1 3 3 3 1 3 0 0 0]\n"
     ]
    }
   ],
   "source": [
    "kmeans = KMeans(n_clusters=5, init='k-means++', random_state=0)\n",
    "\n",
    "# return a label for each data point based on their cluster\n",
    "Y = kmeans.fit_predict(X)\n",
    "\n",
    "print(Y)"
   ]
  },
  {
   "cell_type": "markdown",
   "metadata": {
    "id": "ehXD5VrDSyuB"
   },
   "source": [
    "4 Clusters -  0, 1, 2, 3, "
   ]
  },
  {
   "cell_type": "markdown",
   "metadata": {
    "id": "AfFa2VDQRNcK"
   },
   "source": [
    "Visualizing all the Clusters"
   ]
  },
  {
   "cell_type": "code",
   "execution_count": 24,
   "metadata": {
    "colab": {
     "base_uri": "https://localhost:8080/",
     "height": 518
    },
    "id": "Tl_Obm0aQ_cU",
    "outputId": "9e554efe-7307-4f24-bbda-7fded2ce0616"
   },
   "outputs": [
    {
     "data": {
      "image/png": "[encoded data removed]",
      "text/plain": [
       "<Figure size 800x800 with 1 Axes>"
      ]
     },
     "metadata": {},
     "output_type": "display_data"
    }
   ],
   "source": [
    "# plotting all the clusters and their Centroids\n",
    "\n",
    "plt.figure(figsize=(8,8))\n",
    "plt.scatter(X[Y==0,0], X[Y==0,1], s=50, c='green', label='Cluster 1')\n",
    "plt.scatter(X[Y==1,0], X[Y==1,1], s=50, c='red', label='Cluster 2')\n",
    "plt.scatter(X[Y==2,0], X[Y==2,1], s=50, c='yellow', label='Cluster 3')\n",
    "plt.scatter(X[Y==3,0], X[Y==3,1], s=50, c='violet', label='Cluster 4')\n",
    "plt.scatter(X[Y==4,0], X[Y==4,1], s=50, c='blue', label='Cluster 5')\n",
    "\n",
    "# plot the centroids\n",
    "plt.scatter(kmeans.cluster_centers_[:,0], kmeans.cluster_centers_[:,1], s=100, c='cyan', label='Centroids')\n",
    "\n",
    "plt.title('Customer Groups')\n",
    "plt.xlabel('Average Amount Spent')\n",
    "plt.ylabel('Spending Score')\n",
    "plt.show()"
   ]
  },
  {
   "cell_type": "code",
   "execution_count": null,
   "metadata": {
    "id": "OjWc3GPiUFBm"
   },
   "outputs": [],
   "source": []
  }
 ],
 "metadata": {
  "colab": {
   "provenance": []
  },
  "kernelspec": {
   "display_name": "Python 3",
   "language": "python",
   "name": "python3"
  },
  "language_info": {
   "codemirror_mode": {
    "name": "ipython",
    "version": 3
   },
   "file_extension": ".py",
   "mimetype": "text/x-python",
   "name": "python",
   "nbconvert_exporter": "python",
   "pygments_lexer": "ipython3",
   "version": "3.10.0"
  }
 },
 "nbformat": 4,
 "nbformat_minor": 4
}
